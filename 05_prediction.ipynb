{
 "cells": [
  {
   "cell_type": "code",
   "execution_count": 1,
   "metadata": {
    "execution": {
     "iopub.execute_input": "2023-11-28T16:58:40.534482Z",
     "iopub.status.busy": "2023-11-28T16:58:40.534332Z",
     "iopub.status.idle": "2023-11-28T16:58:41.373147Z",
     "shell.execute_reply": "2023-11-28T16:58:41.372610Z",
     "shell.execute_reply.started": "2023-11-28T16:58:40.534464Z"
    },
    "id": "JfJAhofmFq73",
    "tags": []
   },
   "outputs": [
    {
     "name": "stdout",
     "output_type": "stream",
     "text": [
      "/home/jovyan/workspace\n",
      "total 5354032\n",
      "-rw-rw-r-- 1 jovyan jovyan  100924456 Nov  9 00:05 adata_excluded_ids.csv\n",
      "-rw-rw-r-- 1 jovyan jovyan   37227289 Sep 13 14:53 adata_obs_meta.csv\n",
      "-rw-rw-r-- 1 jovyan jovyan 1761529901 Sep 13 14:53 adata_train.parquet\n",
      "-rw-rw-r-- 1 jovyan jovyan  450105344 Oct 27 18:38 adata_train.parquet.F249d036\n",
      "-rw-rw-r-- 1 jovyan jovyan   92135550 Sep 13 14:53 de_train.parquet\n",
      "-rw-rw-r-- 1 jovyan jovyan       6723 Sep 13 14:53 id_map.csv\n",
      "-rw-rw-r-- 1 jovyan jovyan     943757 Sep 13 14:53 multiome_obs_meta.csv\n",
      "-rw-rw-r-- 1 jovyan jovyan 2555628667 Sep 13 14:53 multiome_train.parquet\n",
      "-rw-rw-r-- 1 jovyan jovyan  461373440 Oct 27 18:38 multiome_train.parquet.CD29e8F0\n",
      "-rw-rw-r-- 1 jovyan jovyan   13075170 Sep 13 14:53 multiome_var_meta.csv\n",
      "-rw-rw-r-- 1 jovyan jovyan   18711844 Sep 13 14:53 sample_submission.csv\n"
     ]
    }
   ],
   "source": [
    "! cd ~\n",
    "! pwd\n",
    "! mkdir -p scp/output\n",
    "! ls -l ../kaggle/input/open-problems-single-cell-perturbations"
   ]
  },
  {
   "cell_type": "code",
   "execution_count": 2,
   "metadata": {
    "colab": {
     "base_uri": "https://localhost:8080/"
    },
    "execution": {
     "iopub.execute_input": "2023-11-28T16:58:41.374635Z",
     "iopub.status.busy": "2023-11-28T16:58:41.374274Z",
     "iopub.status.idle": "2023-11-28T16:58:41.377139Z",
     "shell.execute_reply": "2023-11-28T16:58:41.376678Z",
     "shell.execute_reply.started": "2023-11-28T16:58:41.374618Z"
    },
    "id": "63SPqdHzM_uO",
    "outputId": "a4e520e1-03dd-4d2a-d5e8-ed273bf21acc",
    "tags": []
   },
   "outputs": [],
   "source": [
    "# from google.colab import drive\n",
    "# drive.mount('/content/drive')"
   ]
  },
  {
   "cell_type": "markdown",
   "metadata": {
    "id": "-mS30bk6Xwe1"
   },
   "source": [
    "# Imports\n",
    "* * *"
   ]
  },
  {
   "cell_type": "code",
   "execution_count": 3,
   "metadata": {
    "execution": {
     "iopub.execute_input": "2023-11-28T16:58:41.377850Z",
     "iopub.status.busy": "2023-11-28T16:58:41.377702Z",
     "iopub.status.idle": "2023-11-28T16:58:46.277316Z",
     "shell.execute_reply": "2023-11-28T16:58:46.276785Z",
     "shell.execute_reply.started": "2023-11-28T16:58:41.377837Z"
    },
    "tags": []
   },
   "outputs": [],
   "source": [
    "import numpy as np\n",
    "import pandas as pd\n",
    "import os\n",
    "import datetime\n",
    "import json\n",
    "from collections import defaultdict, OrderedDict\n",
    "\n",
    "import tensorflow as tf\n",
    "from tensorflow.keras.layers import Input\n",
    "from tensorflow.keras.layers import Embedding\n",
    "from tensorflow.keras.layers import Reshape\n",
    "from tensorflow.keras.layers import Concatenate\n",
    "from tensorflow.keras.layers import Dense\n",
    "from tensorflow.keras.activations import tanh\n",
    "from tensorflow.keras.layers import LeakyReLU\n",
    "from tensorflow.keras.layers import BatchNormalization\n",
    "from tensorflow.keras.layers import Dropout\n",
    "from tensorflow.keras.layers import Lambda\n",
    "from tensorflow.keras.models import Model\n",
    "from tensorflow.keras.callbacks import EarlyStopping\n",
    "from tensorflow.keras.callbacks import ModelCheckpoint\n",
    "from tensorflow.keras.callbacks import ReduceLROnPlateau\n",
    "from tensorflow.keras import mixed_precision\n",
    "from tensorflow.python.client import device_lib\n",
    "\n",
    "# set the dtype policy\n",
    "# mixed_precision.set_global_policy('mixed_float16')"
   ]
  },
  {
   "cell_type": "code",
   "execution_count": 4,
   "metadata": {
    "execution": {
     "iopub.execute_input": "2023-11-28T16:58:46.278631Z",
     "iopub.status.busy": "2023-11-28T16:58:46.278339Z",
     "iopub.status.idle": "2023-11-28T16:58:46.281525Z",
     "shell.execute_reply": "2023-11-28T16:58:46.281033Z",
     "shell.execute_reply.started": "2023-11-28T16:58:46.278615Z"
    }
   },
   "outputs": [],
   "source": [
    "# Set the seed using keras.utils.set_random_seed. This will set:\n",
    "# 1) `numpy` seed\n",
    "# 2) `tensorflow` random seed\n",
    "# 3) `python` random seed\n",
    "tf.keras.utils.set_random_seed(17)\n",
    "\n",
    "# This will make TensorFlow ops as deterministic as possible, but it will\n",
    "# affect the overall performance, so it's not enabled by default.\n",
    "# `enable_op_determinism()` is introduced in TensorFlow 2.9.\n",
    "tf.config.experimental.enable_op_determinism()"
   ]
  },
  {
   "cell_type": "code",
   "execution_count": 5,
   "metadata": {
    "execution": {
     "iopub.execute_input": "2023-11-28T16:58:46.283187Z",
     "iopub.status.busy": "2023-11-28T16:58:46.282873Z",
     "iopub.status.idle": "2023-11-28T16:58:46.738045Z",
     "shell.execute_reply": "2023-11-28T16:58:46.737408Z",
     "shell.execute_reply.started": "2023-11-28T16:58:46.283171Z"
    },
    "tags": []
   },
   "outputs": [
    {
     "name": "stdout",
     "output_type": "stream",
     "text": [
      "['/device:CPU:0', '/device:GPU:0']\n"
     ]
    },
    {
     "name": "stderr",
     "output_type": "stream",
     "text": [
      "2023-11-28 16:58:46.346918: I tensorflow/stream_executor/cuda/cuda_gpu_executor.cc:975] successful NUMA node read from SysFS had negative value (-1), but there must be at least one NUMA node, so returning NUMA node zero\n",
      "2023-11-28 16:58:46.351200: I tensorflow/stream_executor/cuda/cuda_gpu_executor.cc:975] successful NUMA node read from SysFS had negative value (-1), but there must be at least one NUMA node, so returning NUMA node zero\n",
      "2023-11-28 16:58:46.351467: I tensorflow/stream_executor/cuda/cuda_gpu_executor.cc:975] successful NUMA node read from SysFS had negative value (-1), but there must be at least one NUMA node, so returning NUMA node zero\n",
      "2023-11-28 16:58:46.352276: I tensorflow/core/platform/cpu_feature_guard.cc:193] This TensorFlow binary is optimized with oneAPI Deep Neural Network Library (oneDNN) to use the following CPU instructions in performance-critical operations:  AVX2 FMA\n",
      "To enable them in other operations, rebuild TensorFlow with the appropriate compiler flags.\n",
      "2023-11-28 16:58:46.352885: I tensorflow/stream_executor/cuda/cuda_gpu_executor.cc:975] successful NUMA node read from SysFS had negative value (-1), but there must be at least one NUMA node, so returning NUMA node zero\n",
      "2023-11-28 16:58:46.353133: I tensorflow/stream_executor/cuda/cuda_gpu_executor.cc:975] successful NUMA node read from SysFS had negative value (-1), but there must be at least one NUMA node, so returning NUMA node zero\n",
      "2023-11-28 16:58:46.353359: I tensorflow/stream_executor/cuda/cuda_gpu_executor.cc:975] successful NUMA node read from SysFS had negative value (-1), but there must be at least one NUMA node, so returning NUMA node zero\n",
      "2023-11-28 16:58:46.734345: I tensorflow/stream_executor/cuda/cuda_gpu_executor.cc:975] successful NUMA node read from SysFS had negative value (-1), but there must be at least one NUMA node, so returning NUMA node zero\n",
      "2023-11-28 16:58:46.734608: I tensorflow/stream_executor/cuda/cuda_gpu_executor.cc:975] successful NUMA node read from SysFS had negative value (-1), but there must be at least one NUMA node, so returning NUMA node zero\n",
      "2023-11-28 16:58:46.734804: I tensorflow/stream_executor/cuda/cuda_gpu_executor.cc:975] successful NUMA node read from SysFS had negative value (-1), but there must be at least one NUMA node, so returning NUMA node zero\n",
      "2023-11-28 16:58:46.734977: I tensorflow/core/common_runtime/gpu/gpu_device.cc:1532] Created device /device:GPU:0 with 20779 MB memory:  -> device: 0, name: NVIDIA A10G, pci bus id: 0000:00:1e.0, compute capability: 8.6\n"
     ]
    }
   ],
   "source": [
    "# check cuda\n",
    "tf.test.is_built_with_cuda(), tf.config.list_physical_devices('GPU')\n",
    "def get_available_devices():\n",
    "    local_device_protos = device_lib.list_local_devices()\n",
    "    return [x.name for x in local_device_protos]\n",
    "\n",
    "print(get_available_devices())\n",
    "\n",
    "# Your output is probably something like ['/device:CPU:0']\n",
    "# It should be ['/device:CPU:0', '/device:GPU:0']"
   ]
  },
  {
   "cell_type": "markdown",
   "metadata": {
    "id": "XDhkWstzYbxY"
   },
   "source": [
    "# Read test data\n",
    "* * *"
   ]
  },
  {
   "cell_type": "code",
   "execution_count": 6,
   "metadata": {
    "colab": {
     "base_uri": "https://localhost:8080/",
     "height": 342
    },
    "execution": {
     "iopub.execute_input": "2023-11-28T16:58:46.738922Z",
     "iopub.status.busy": "2023-11-28T16:58:46.738757Z",
     "iopub.status.idle": "2023-11-28T16:58:46.743295Z",
     "shell.execute_reply": "2023-11-28T16:58:46.742839Z",
     "shell.execute_reply.started": "2023-11-28T16:58:46.738902Z"
    },
    "id": "MtpUz4mIt81H",
    "outputId": "345ad224-57d4-4e22-c9d5-c80ce1cb0493",
    "tags": []
   },
   "outputs": [],
   "source": [
    "# Contants\n",
    "data_path = '../kaggle/input/open-problems-single-cell-perturbations'\n",
    "model_path = './scp/model'\n",
    "intermediate_path = './scp/intermediate'\n",
    "output_path = './scp/output'\n",
    "\n",
    "# model name: date in the format YYYYMMDD_HHMM\n",
    "formatted_datetime = '20231128_1357'\n",
    "OUTPUT_SCALE = 180"
   ]
  },
  {
   "cell_type": "markdown",
   "metadata": {
    "id": "D16s64RKYqQn",
    "tags": []
   },
   "source": [
    "# Read mapping from submission file id to  data names\n",
    "* * *"
   ]
  },
  {
   "cell_type": "code",
   "execution_count": 7,
   "metadata": {
    "colab": {
     "base_uri": "https://localhost:8080/",
     "height": 238
    },
    "execution": {
     "iopub.execute_input": "2023-11-28T16:58:46.744192Z",
     "iopub.status.busy": "2023-11-28T16:58:46.744041Z",
     "iopub.status.idle": "2023-11-28T16:58:46.760512Z",
     "shell.execute_reply": "2023-11-28T16:58:46.760016Z",
     "shell.execute_reply.started": "2023-11-28T16:58:46.744179Z"
    },
    "id": "UNCHqbq0-AEs",
    "outputId": "a0a51089-94f4-4686-a6dd-2d455c09e557",
    "tags": []
   },
   "outputs": [
    {
     "data": {
      "text/html": [
       "<div>\n",
       "<style scoped>\n",
       "    .dataframe tbody tr th:only-of-type {\n",
       "        vertical-align: middle;\n",
       "    }\n",
       "\n",
       "    .dataframe tbody tr th {\n",
       "        vertical-align: top;\n",
       "    }\n",
       "\n",
       "    .dataframe thead th {\n",
       "        text-align: right;\n",
       "    }\n",
       "</style>\n",
       "<table border=\"1\" class=\"dataframe\">\n",
       "  <thead>\n",
       "    <tr style=\"text-align: right;\">\n",
       "      <th></th>\n",
       "      <th>cell_type</th>\n",
       "      <th>sm_name</th>\n",
       "    </tr>\n",
       "    <tr>\n",
       "      <th>id</th>\n",
       "      <th></th>\n",
       "      <th></th>\n",
       "    </tr>\n",
       "  </thead>\n",
       "  <tbody>\n",
       "    <tr>\n",
       "      <th>0</th>\n",
       "      <td>B cells</td>\n",
       "      <td>5-(9-Isopropyl-8-methyl-2-morpholino-9H-purin-...</td>\n",
       "    </tr>\n",
       "    <tr>\n",
       "      <th>1</th>\n",
       "      <td>B cells</td>\n",
       "      <td>ABT-199 (GDC-0199)</td>\n",
       "    </tr>\n",
       "    <tr>\n",
       "      <th>2</th>\n",
       "      <td>B cells</td>\n",
       "      <td>ABT737</td>\n",
       "    </tr>\n",
       "    <tr>\n",
       "      <th>3</th>\n",
       "      <td>B cells</td>\n",
       "      <td>AMD-070 (hydrochloride)</td>\n",
       "    </tr>\n",
       "    <tr>\n",
       "      <th>4</th>\n",
       "      <td>B cells</td>\n",
       "      <td>AT 7867</td>\n",
       "    </tr>\n",
       "  </tbody>\n",
       "</table>\n",
       "</div>"
      ],
      "text/plain": [
       "   cell_type                                            sm_name\n",
       "id                                                             \n",
       "0    B cells  5-(9-Isopropyl-8-methyl-2-morpholino-9H-purin-...\n",
       "1    B cells                                 ABT-199 (GDC-0199)\n",
       "2    B cells                                             ABT737\n",
       "3    B cells                            AMD-070 (hydrochloride)\n",
       "4    B cells                                            AT 7867"
      ]
     },
     "execution_count": 7,
     "metadata": {},
     "output_type": "execute_result"
    }
   ],
   "source": [
    "id_map_df = pd.read_csv(f\"{data_path}/id_map.csv\", index_col=[0])\n",
    "id_map_df.head()"
   ]
  },
  {
   "cell_type": "markdown",
   "metadata": {
    "id": "ZFp2BPSCZGyY"
   },
   "source": [
    "# Read submission file example\n",
    "* * *\n",
    "Contains the submission ids and coumns required, so it can be used as a template to fill in with predictions, right?"
   ]
  },
  {
   "cell_type": "code",
   "execution_count": 8,
   "metadata": {
    "colab": {
     "base_uri": "https://localhost:8080/",
     "height": 285
    },
    "execution": {
     "iopub.execute_input": "2023-11-28T16:58:46.761530Z",
     "iopub.status.busy": "2023-11-28T16:58:46.761208Z",
     "iopub.status.idle": "2023-11-28T16:58:48.557864Z",
     "shell.execute_reply": "2023-11-28T16:58:48.557370Z",
     "shell.execute_reply.started": "2023-11-28T16:58:46.761512Z"
    },
    "id": "OiupXAD6U6Ai",
    "outputId": "32fa2694-3655-48cd-ddd1-1c1647f0078c",
    "tags": []
   },
   "outputs": [
    {
     "name": "stdout",
     "output_type": "stream",
     "text": [
      "(255, 18211)\n"
     ]
    },
    {
     "data": {
      "text/html": [
       "<div>\n",
       "<style scoped>\n",
       "    .dataframe tbody tr th:only-of-type {\n",
       "        vertical-align: middle;\n",
       "    }\n",
       "\n",
       "    .dataframe tbody tr th {\n",
       "        vertical-align: top;\n",
       "    }\n",
       "\n",
       "    .dataframe thead th {\n",
       "        text-align: right;\n",
       "    }\n",
       "</style>\n",
       "<table border=\"1\" class=\"dataframe\">\n",
       "  <thead>\n",
       "    <tr style=\"text-align: right;\">\n",
       "      <th></th>\n",
       "      <th>A1BG</th>\n",
       "      <th>A1BG-AS1</th>\n",
       "      <th>A2M</th>\n",
       "      <th>A2M-AS1</th>\n",
       "      <th>A2MP1</th>\n",
       "      <th>A4GALT</th>\n",
       "      <th>AAAS</th>\n",
       "      <th>AACS</th>\n",
       "      <th>AAGAB</th>\n",
       "      <th>AAK1</th>\n",
       "      <th>...</th>\n",
       "      <th>ZUP1</th>\n",
       "      <th>ZW10</th>\n",
       "      <th>ZWILCH</th>\n",
       "      <th>ZWINT</th>\n",
       "      <th>ZXDA</th>\n",
       "      <th>ZXDB</th>\n",
       "      <th>ZXDC</th>\n",
       "      <th>ZYG11B</th>\n",
       "      <th>ZYX</th>\n",
       "      <th>ZZEF1</th>\n",
       "    </tr>\n",
       "    <tr>\n",
       "      <th>id</th>\n",
       "      <th></th>\n",
       "      <th></th>\n",
       "      <th></th>\n",
       "      <th></th>\n",
       "      <th></th>\n",
       "      <th></th>\n",
       "      <th></th>\n",
       "      <th></th>\n",
       "      <th></th>\n",
       "      <th></th>\n",
       "      <th></th>\n",
       "      <th></th>\n",
       "      <th></th>\n",
       "      <th></th>\n",
       "      <th></th>\n",
       "      <th></th>\n",
       "      <th></th>\n",
       "      <th></th>\n",
       "      <th></th>\n",
       "      <th></th>\n",
       "      <th></th>\n",
       "    </tr>\n",
       "  </thead>\n",
       "  <tbody>\n",
       "    <tr>\n",
       "      <th>0</th>\n",
       "      <td>0.0</td>\n",
       "      <td>0.0</td>\n",
       "      <td>0.0</td>\n",
       "      <td>0.0</td>\n",
       "      <td>0.0</td>\n",
       "      <td>0.0</td>\n",
       "      <td>0.0</td>\n",
       "      <td>0.0</td>\n",
       "      <td>0.0</td>\n",
       "      <td>0.0</td>\n",
       "      <td>...</td>\n",
       "      <td>0.0</td>\n",
       "      <td>0.0</td>\n",
       "      <td>0.0</td>\n",
       "      <td>0.0</td>\n",
       "      <td>0.0</td>\n",
       "      <td>0.0</td>\n",
       "      <td>0.0</td>\n",
       "      <td>0.0</td>\n",
       "      <td>0.0</td>\n",
       "      <td>0.0</td>\n",
       "    </tr>\n",
       "    <tr>\n",
       "      <th>1</th>\n",
       "      <td>0.0</td>\n",
       "      <td>0.0</td>\n",
       "      <td>0.0</td>\n",
       "      <td>0.0</td>\n",
       "      <td>0.0</td>\n",
       "      <td>0.0</td>\n",
       "      <td>0.0</td>\n",
       "      <td>0.0</td>\n",
       "      <td>0.0</td>\n",
       "      <td>0.0</td>\n",
       "      <td>...</td>\n",
       "      <td>0.0</td>\n",
       "      <td>0.0</td>\n",
       "      <td>0.0</td>\n",
       "      <td>0.0</td>\n",
       "      <td>0.0</td>\n",
       "      <td>0.0</td>\n",
       "      <td>0.0</td>\n",
       "      <td>0.0</td>\n",
       "      <td>0.0</td>\n",
       "      <td>0.0</td>\n",
       "    </tr>\n",
       "    <tr>\n",
       "      <th>2</th>\n",
       "      <td>0.0</td>\n",
       "      <td>0.0</td>\n",
       "      <td>0.0</td>\n",
       "      <td>0.0</td>\n",
       "      <td>0.0</td>\n",
       "      <td>0.0</td>\n",
       "      <td>0.0</td>\n",
       "      <td>0.0</td>\n",
       "      <td>0.0</td>\n",
       "      <td>0.0</td>\n",
       "      <td>...</td>\n",
       "      <td>0.0</td>\n",
       "      <td>0.0</td>\n",
       "      <td>0.0</td>\n",
       "      <td>0.0</td>\n",
       "      <td>0.0</td>\n",
       "      <td>0.0</td>\n",
       "      <td>0.0</td>\n",
       "      <td>0.0</td>\n",
       "      <td>0.0</td>\n",
       "      <td>0.0</td>\n",
       "    </tr>\n",
       "    <tr>\n",
       "      <th>3</th>\n",
       "      <td>0.0</td>\n",
       "      <td>0.0</td>\n",
       "      <td>0.0</td>\n",
       "      <td>0.0</td>\n",
       "      <td>0.0</td>\n",
       "      <td>0.0</td>\n",
       "      <td>0.0</td>\n",
       "      <td>0.0</td>\n",
       "      <td>0.0</td>\n",
       "      <td>0.0</td>\n",
       "      <td>...</td>\n",
       "      <td>0.0</td>\n",
       "      <td>0.0</td>\n",
       "      <td>0.0</td>\n",
       "      <td>0.0</td>\n",
       "      <td>0.0</td>\n",
       "      <td>0.0</td>\n",
       "      <td>0.0</td>\n",
       "      <td>0.0</td>\n",
       "      <td>0.0</td>\n",
       "      <td>0.0</td>\n",
       "    </tr>\n",
       "    <tr>\n",
       "      <th>4</th>\n",
       "      <td>0.0</td>\n",
       "      <td>0.0</td>\n",
       "      <td>0.0</td>\n",
       "      <td>0.0</td>\n",
       "      <td>0.0</td>\n",
       "      <td>0.0</td>\n",
       "      <td>0.0</td>\n",
       "      <td>0.0</td>\n",
       "      <td>0.0</td>\n",
       "      <td>0.0</td>\n",
       "      <td>...</td>\n",
       "      <td>0.0</td>\n",
       "      <td>0.0</td>\n",
       "      <td>0.0</td>\n",
       "      <td>0.0</td>\n",
       "      <td>0.0</td>\n",
       "      <td>0.0</td>\n",
       "      <td>0.0</td>\n",
       "      <td>0.0</td>\n",
       "      <td>0.0</td>\n",
       "      <td>0.0</td>\n",
       "    </tr>\n",
       "  </tbody>\n",
       "</table>\n",
       "<p>5 rows × 18211 columns</p>\n",
       "</div>"
      ],
      "text/plain": [
       "    A1BG  A1BG-AS1  A2M  A2M-AS1  A2MP1  A4GALT  AAAS  AACS  AAGAB  AAK1  ...  \\\n",
       "id                                                                        ...   \n",
       "0    0.0       0.0  0.0      0.0    0.0     0.0   0.0   0.0    0.0   0.0  ...   \n",
       "1    0.0       0.0  0.0      0.0    0.0     0.0   0.0   0.0    0.0   0.0  ...   \n",
       "2    0.0       0.0  0.0      0.0    0.0     0.0   0.0   0.0    0.0   0.0  ...   \n",
       "3    0.0       0.0  0.0      0.0    0.0     0.0   0.0   0.0    0.0   0.0  ...   \n",
       "4    0.0       0.0  0.0      0.0    0.0     0.0   0.0   0.0    0.0   0.0  ...   \n",
       "\n",
       "    ZUP1  ZW10  ZWILCH  ZWINT  ZXDA  ZXDB  ZXDC  ZYG11B  ZYX  ZZEF1  \n",
       "id                                                                   \n",
       "0    0.0   0.0     0.0    0.0   0.0   0.0   0.0     0.0  0.0    0.0  \n",
       "1    0.0   0.0     0.0    0.0   0.0   0.0   0.0     0.0  0.0    0.0  \n",
       "2    0.0   0.0     0.0    0.0   0.0   0.0   0.0     0.0  0.0    0.0  \n",
       "3    0.0   0.0     0.0    0.0   0.0   0.0   0.0     0.0  0.0    0.0  \n",
       "4    0.0   0.0     0.0    0.0   0.0   0.0   0.0     0.0  0.0    0.0  \n",
       "\n",
       "[5 rows x 18211 columns]"
      ]
     },
     "execution_count": 8,
     "metadata": {},
     "output_type": "execute_result"
    }
   ],
   "source": [
    "submission_df = pd.read_csv(f\"{data_path}/sample_submission.csv\", index_col=[0])\n",
    "print(submission_df.shape)\n",
    "submission_df.head()"
   ]
  },
  {
   "cell_type": "code",
   "execution_count": 9,
   "metadata": {
    "execution": {
     "iopub.execute_input": "2023-11-28T16:58:48.559007Z",
     "iopub.status.busy": "2023-11-28T16:58:48.558852Z",
     "iopub.status.idle": "2023-11-28T16:58:48.569554Z",
     "shell.execute_reply": "2023-11-28T16:58:48.569101Z",
     "shell.execute_reply.started": "2023-11-28T16:58:48.558993Z"
    },
    "tags": []
   },
   "outputs": [
    {
     "data": {
      "text/plain": [
       "['B cells',\n",
       " 'Myeloid cells',\n",
       " 'NK cells',\n",
       " 'T cells CD4+',\n",
       " 'T cells CD8+',\n",
       " 'T regulatory cells']"
      ]
     },
     "execution_count": 9,
     "metadata": {},
     "output_type": "execute_result"
    }
   ],
   "source": [
    "# read name-id mappings for embeddings\n",
    "with open(f'{intermediate_path}/name_to_id_maps_for_embeddings.txt', 'r') as file:\n",
    "     name_to_id_maps = json.loads(file.read())\n",
    "list(name_to_id_maps['cell_type'])"
   ]
  },
  {
   "cell_type": "code",
   "execution_count": 10,
   "metadata": {
    "execution": {
     "iopub.execute_input": "2023-11-28T16:58:48.570289Z",
     "iopub.status.busy": "2023-11-28T16:58:48.570136Z",
     "iopub.status.idle": "2023-11-28T16:58:48.575073Z",
     "shell.execute_reply": "2023-11-28T16:58:48.574615Z",
     "shell.execute_reply.started": "2023-11-28T16:58:48.570276Z"
    },
    "tags": []
   },
   "outputs": [
    {
     "data": {
      "text/plain": [
       "[('A1BG', 0),\n",
       " ('A1BG-AS1', 1),\n",
       " ('A2M', 2),\n",
       " ('A2M-AS1', 3),\n",
       " ('A2MP1', 4),\n",
       " ('A4GALT', 5),\n",
       " ('AAAS', 6),\n",
       " ('AACS', 7),\n",
       " ('AAGAB', 8),\n",
       " ('AAK1', 9)]"
      ]
     },
     "execution_count": 10,
     "metadata": {},
     "output_type": "execute_result"
    }
   ],
   "source": [
    "list(name_to_id_maps['gene_name'].items())[:10]"
   ]
  },
  {
   "cell_type": "code",
   "execution_count": 11,
   "metadata": {
    "execution": {
     "iopub.execute_input": "2023-11-28T16:58:48.575794Z",
     "iopub.status.busy": "2023-11-28T16:58:48.575653Z",
     "iopub.status.idle": "2023-11-28T16:58:48.580874Z",
     "shell.execute_reply": "2023-11-28T16:58:48.580431Z",
     "shell.execute_reply.started": "2023-11-28T16:58:48.575781Z"
    },
    "tags": []
   },
   "outputs": [
    {
     "data": {
      "text/plain": [
       "[('5-(9-Isopropyl-8-methyl-2-morpholino-9H-purin-6-yl)pyrimidin-2-amine', 0),\n",
       " ('ABT-199 (GDC-0199)', 1),\n",
       " ('ABT737', 2),\n",
       " ('AMD-070 (hydrochloride)', 3),\n",
       " ('AT 7867', 4),\n",
       " ('AT13387', 5),\n",
       " ('AVL-292', 6),\n",
       " ('AZ628', 7),\n",
       " ('AZD-8330', 8),\n",
       " ('AZD3514', 9)]"
      ]
     },
     "execution_count": 11,
     "metadata": {},
     "output_type": "execute_result"
    }
   ],
   "source": [
    "list(name_to_id_maps['sm_name'].items())[:10]"
   ]
  },
  {
   "cell_type": "markdown",
   "metadata": {},
   "source": [
    "# Read features\n",
    "* * *"
   ]
  },
  {
   "cell_type": "code",
   "execution_count": 12,
   "metadata": {
    "execution": {
     "iopub.execute_input": "2023-11-28T16:58:48.581559Z",
     "iopub.status.busy": "2023-11-28T16:58:48.581416Z",
     "iopub.status.idle": "2023-11-28T16:58:48.601748Z",
     "shell.execute_reply": "2023-11-28T16:58:48.601279Z",
     "shell.execute_reply.started": "2023-11-28T16:58:48.581545Z"
    }
   },
   "outputs": [
    {
     "name": "stdout",
     "output_type": "stream",
     "text": [
      "Read 146 small molecule fingerprints from path:\n",
      "./scp/intermediate/fingerprints.csv\n",
      "[0, 0, 0, 0, 0, 0, 0, 0, 0, 0, 0, 0, 0, 0, 0, 0, 0, 0, 0, 0, 0, 0, 0, 0, 0, 0, 0, 0, 0, 0, 0, 0, 0, 0, 0, 0, 0, 0, 0, 0, 0, 0, 0, 0, 0, 0, 0, 0, 0, 0, 0, 0, 0, 0, 0, 0, 0, 0, 0, 0, 0, 0, 0, 0, 0, 1, 1, 0, 0, 0, 0, 0, 0, 0, 0, 1, 0, 1, 0, 1, 0, 0, 0, 1, 0, 1, 0, 1, 0, 0, 0, 0, 0, 0, 0, 0, 1, 0, 0, 0, 0, 0, 0, 1, 0, 0, 0, 1, 0, 0, 0, 0, 1, 0, 0, 0, 0, 0, 0, 0, 1, 1, 1, 0, 0, 1, 0, 0, 0, 0, 0, 0, 0, 0, 1, 0, 0, 1, 0, 0, 0, 0, 1, 0, 1, 1, 0, 0, 1, 0, 1, 0, 0, 0, 0, 0, 1, 0, 1, 0, 0, 1, 1, 1, 0, 1, 0]\n"
     ]
    },
    {
     "data": {
      "text/html": [
       "<div>\n",
       "<style scoped>\n",
       "    .dataframe tbody tr th:only-of-type {\n",
       "        vertical-align: middle;\n",
       "    }\n",
       "\n",
       "    .dataframe tbody tr th {\n",
       "        vertical-align: top;\n",
       "    }\n",
       "\n",
       "    .dataframe thead th {\n",
       "        text-align: right;\n",
       "    }\n",
       "</style>\n",
       "<table border=\"1\" class=\"dataframe\">\n",
       "  <thead>\n",
       "    <tr style=\"text-align: right;\">\n",
       "      <th></th>\n",
       "      <th>sm_name</th>\n",
       "      <th>fp</th>\n",
       "    </tr>\n",
       "  </thead>\n",
       "  <tbody>\n",
       "    <tr>\n",
       "      <th>0</th>\n",
       "      <td>Clotrimazole</td>\n",
       "      <td>[0, 0, 0, 0, 0, 0, 0, 0, 0, 0, 0, 0, 0, 0, 0, ...</td>\n",
       "    </tr>\n",
       "    <tr>\n",
       "      <th>1</th>\n",
       "      <td>Mometasone Furoate</td>\n",
       "      <td>[0, 0, 0, 0, 0, 0, 0, 0, 0, 0, 0, 0, 0, 0, 0, ...</td>\n",
       "    </tr>\n",
       "    <tr>\n",
       "      <th>2</th>\n",
       "      <td>Idelalisib</td>\n",
       "      <td>[0, 0, 0, 0, 0, 0, 0, 0, 0, 0, 0, 0, 0, 0, 0, ...</td>\n",
       "    </tr>\n",
       "    <tr>\n",
       "      <th>3</th>\n",
       "      <td>Vandetanib</td>\n",
       "      <td>[0, 0, 0, 0, 0, 0, 0, 0, 0, 0, 0, 0, 0, 0, 0, ...</td>\n",
       "    </tr>\n",
       "    <tr>\n",
       "      <th>4</th>\n",
       "      <td>Bosutinib</td>\n",
       "      <td>[0, 0, 0, 0, 0, 0, 0, 0, 0, 0, 0, 0, 0, 0, 0, ...</td>\n",
       "    </tr>\n",
       "    <tr>\n",
       "      <th>...</th>\n",
       "      <td>...</td>\n",
       "      <td>...</td>\n",
       "    </tr>\n",
       "    <tr>\n",
       "      <th>141</th>\n",
       "      <td>CGM-097</td>\n",
       "      <td>[0, 0, 0, 0, 0, 0, 0, 0, 0, 0, 0, 0, 0, 0, 0, ...</td>\n",
       "    </tr>\n",
       "    <tr>\n",
       "      <th>142</th>\n",
       "      <td>TGX 221</td>\n",
       "      <td>[0, 0, 0, 0, 0, 0, 0, 0, 0, 0, 0, 0, 0, 0, 0, ...</td>\n",
       "    </tr>\n",
       "    <tr>\n",
       "      <th>143</th>\n",
       "      <td>Azacitidine</td>\n",
       "      <td>[0, 0, 0, 0, 0, 0, 0, 0, 0, 0, 0, 0, 0, 0, 0, ...</td>\n",
       "    </tr>\n",
       "    <tr>\n",
       "      <th>144</th>\n",
       "      <td>Atorvastatin</td>\n",
       "      <td>[0, 0, 0, 0, 0, 0, 0, 0, 0, 0, 0, 0, 0, 0, 0, ...</td>\n",
       "    </tr>\n",
       "    <tr>\n",
       "      <th>145</th>\n",
       "      <td>Riociguat</td>\n",
       "      <td>[0, 0, 0, 0, 0, 0, 0, 0, 0, 0, 0, 0, 0, 0, 0, ...</td>\n",
       "    </tr>\n",
       "  </tbody>\n",
       "</table>\n",
       "<p>146 rows × 2 columns</p>\n",
       "</div>"
      ],
      "text/plain": [
       "                sm_name                                                 fp\n",
       "0          Clotrimazole  [0, 0, 0, 0, 0, 0, 0, 0, 0, 0, 0, 0, 0, 0, 0, ...\n",
       "1    Mometasone Furoate  [0, 0, 0, 0, 0, 0, 0, 0, 0, 0, 0, 0, 0, 0, 0, ...\n",
       "2            Idelalisib  [0, 0, 0, 0, 0, 0, 0, 0, 0, 0, 0, 0, 0, 0, 0, ...\n",
       "3            Vandetanib  [0, 0, 0, 0, 0, 0, 0, 0, 0, 0, 0, 0, 0, 0, 0, ...\n",
       "4             Bosutinib  [0, 0, 0, 0, 0, 0, 0, 0, 0, 0, 0, 0, 0, 0, 0, ...\n",
       "..                  ...                                                ...\n",
       "141             CGM-097  [0, 0, 0, 0, 0, 0, 0, 0, 0, 0, 0, 0, 0, 0, 0, ...\n",
       "142             TGX 221  [0, 0, 0, 0, 0, 0, 0, 0, 0, 0, 0, 0, 0, 0, 0, ...\n",
       "143         Azacitidine  [0, 0, 0, 0, 0, 0, 0, 0, 0, 0, 0, 0, 0, 0, 0, ...\n",
       "144        Atorvastatin  [0, 0, 0, 0, 0, 0, 0, 0, 0, 0, 0, 0, 0, 0, 0, ...\n",
       "145           Riociguat  [0, 0, 0, 0, 0, 0, 0, 0, 0, 0, 0, 0, 0, 0, 0, ...\n",
       "\n",
       "[146 rows x 2 columns]"
      ]
     },
     "execution_count": 12,
     "metadata": {},
     "output_type": "execute_result"
    }
   ],
   "source": [
    "fp_path = f\"{intermediate_path}/fingerprints.csv\"\n",
    "fp_df = pd.read_csv(fp_path)\n",
    "print(f'Read {fp_df.shape[0]} small molecule fingerprints from path:\\n{fp_path}')\n",
    "fp_df['fp'] = fp_df['fingerprint'].apply(lambda x: list(map(int, x[1:-1].split(','))))\n",
    "fp_df.drop(columns=['fingerprint'], inplace=True)\n",
    "name_to_fp = {row[0]: row[1] for row in fp_df.values}\n",
    "print(name_to_fp['Clotrimazole'])\n",
    "fp_df"
   ]
  },
  {
   "cell_type": "code",
   "execution_count": 13,
   "metadata": {
    "execution": {
     "iopub.execute_input": "2023-11-28T16:58:48.602473Z",
     "iopub.status.busy": "2023-11-28T16:58:48.602327Z",
     "iopub.status.idle": "2023-11-28T16:58:48.612932Z",
     "shell.execute_reply": "2023-11-28T16:58:48.612486Z",
     "shell.execute_reply.started": "2023-11-28T16:58:48.602459Z"
    },
    "tags": []
   },
   "outputs": [
    {
     "name": "stdout",
     "output_type": "stream",
     "text": [
      "Read 146 small molecule descriptors from path:\n",
      "./scp/intermediate/ro5_descriptors.csv\n"
     ]
    },
    {
     "data": {
      "text/html": [
       "<div>\n",
       "<style scoped>\n",
       "    .dataframe tbody tr th:only-of-type {\n",
       "        vertical-align: middle;\n",
       "    }\n",
       "\n",
       "    .dataframe tbody tr th {\n",
       "        vertical-align: top;\n",
       "    }\n",
       "\n",
       "    .dataframe thead th {\n",
       "        text-align: right;\n",
       "    }\n",
       "</style>\n",
       "<table border=\"1\" class=\"dataframe\">\n",
       "  <thead>\n",
       "    <tr style=\"text-align: right;\">\n",
       "      <th></th>\n",
       "      <th>sm_name</th>\n",
       "      <th>MW</th>\n",
       "      <th>HBA</th>\n",
       "      <th>HBD</th>\n",
       "      <th>LogP</th>\n",
       "      <th>pass_ro5</th>\n",
       "    </tr>\n",
       "  </thead>\n",
       "  <tbody>\n",
       "    <tr>\n",
       "      <th>0</th>\n",
       "      <td>Clotrimazole</td>\n",
       "      <td>344.845</td>\n",
       "      <td>2</td>\n",
       "      <td>0</td>\n",
       "      <td>5.37670</td>\n",
       "      <td>True</td>\n",
       "    </tr>\n",
       "    <tr>\n",
       "      <th>1</th>\n",
       "      <td>Mometasone Furoate</td>\n",
       "      <td>521.437</td>\n",
       "      <td>6</td>\n",
       "      <td>1</td>\n",
       "      <td>4.86920</td>\n",
       "      <td>True</td>\n",
       "    </tr>\n",
       "    <tr>\n",
       "      <th>2</th>\n",
       "      <td>Idelalisib</td>\n",
       "      <td>415.432</td>\n",
       "      <td>8</td>\n",
       "      <td>2</td>\n",
       "      <td>3.75430</td>\n",
       "      <td>True</td>\n",
       "    </tr>\n",
       "    <tr>\n",
       "      <th>3</th>\n",
       "      <td>Vandetanib</td>\n",
       "      <td>475.362</td>\n",
       "      <td>6</td>\n",
       "      <td>1</td>\n",
       "      <td>5.00420</td>\n",
       "      <td>True</td>\n",
       "    </tr>\n",
       "    <tr>\n",
       "      <th>4</th>\n",
       "      <td>Bosutinib</td>\n",
       "      <td>530.456</td>\n",
       "      <td>8</td>\n",
       "      <td>1</td>\n",
       "      <td>5.19038</td>\n",
       "      <td>False</td>\n",
       "    </tr>\n",
       "    <tr>\n",
       "      <th>...</th>\n",
       "      <td>...</td>\n",
       "      <td>...</td>\n",
       "      <td>...</td>\n",
       "      <td>...</td>\n",
       "      <td>...</td>\n",
       "      <td>...</td>\n",
       "    </tr>\n",
       "    <tr>\n",
       "      <th>141</th>\n",
       "      <td>CGM-097</td>\n",
       "      <td>659.271</td>\n",
       "      <td>8</td>\n",
       "      <td>0</td>\n",
       "      <td>6.58350</td>\n",
       "      <td>False</td>\n",
       "    </tr>\n",
       "    <tr>\n",
       "      <th>142</th>\n",
       "      <td>TGX 221</td>\n",
       "      <td>364.449</td>\n",
       "      <td>6</td>\n",
       "      <td>1</td>\n",
       "      <td>3.01262</td>\n",
       "      <td>True</td>\n",
       "    </tr>\n",
       "    <tr>\n",
       "      <th>143</th>\n",
       "      <td>Azacitidine</td>\n",
       "      <td>244.207</td>\n",
       "      <td>9</td>\n",
       "      <td>5</td>\n",
       "      <td>-3.16800</td>\n",
       "      <td>True</td>\n",
       "    </tr>\n",
       "    <tr>\n",
       "      <th>144</th>\n",
       "      <td>Atorvastatin</td>\n",
       "      <td>558.650</td>\n",
       "      <td>7</td>\n",
       "      <td>4</td>\n",
       "      <td>6.31360</td>\n",
       "      <td>False</td>\n",
       "    </tr>\n",
       "    <tr>\n",
       "      <th>145</th>\n",
       "      <td>Riociguat</td>\n",
       "      <td>422.424</td>\n",
       "      <td>10</td>\n",
       "      <td>4</td>\n",
       "      <td>2.44270</td>\n",
       "      <td>True</td>\n",
       "    </tr>\n",
       "  </tbody>\n",
       "</table>\n",
       "<p>146 rows × 6 columns</p>\n",
       "</div>"
      ],
      "text/plain": [
       "                sm_name       MW  HBA  HBD     LogP  pass_ro5\n",
       "0          Clotrimazole  344.845    2    0  5.37670      True\n",
       "1    Mometasone Furoate  521.437    6    1  4.86920      True\n",
       "2            Idelalisib  415.432    8    2  3.75430      True\n",
       "3            Vandetanib  475.362    6    1  5.00420      True\n",
       "4             Bosutinib  530.456    8    1  5.19038     False\n",
       "..                  ...      ...  ...  ...      ...       ...\n",
       "141             CGM-097  659.271    8    0  6.58350     False\n",
       "142             TGX 221  364.449    6    1  3.01262      True\n",
       "143         Azacitidine  244.207    9    5 -3.16800      True\n",
       "144        Atorvastatin  558.650    7    4  6.31360     False\n",
       "145           Riociguat  422.424   10    4  2.44270      True\n",
       "\n",
       "[146 rows x 6 columns]"
      ]
     },
     "execution_count": 13,
     "metadata": {},
     "output_type": "execute_result"
    }
   ],
   "source": [
    "ro5_path = f\"{intermediate_path}/ro5_descriptors.csv\"\n",
    "ro5_df = pd.read_csv(ro5_path)\n",
    "print(f'Read {ro5_df.shape[0]} small molecule descriptors from path:\\n{ro5_path}')\n",
    "ro5_df"
   ]
  },
  {
   "cell_type": "code",
   "execution_count": 14,
   "metadata": {
    "execution": {
     "iopub.execute_input": "2023-11-28T16:58:48.615285Z",
     "iopub.status.busy": "2023-11-28T16:58:48.614971Z",
     "iopub.status.idle": "2023-11-28T16:58:48.620260Z",
     "shell.execute_reply": "2023-11-28T16:58:48.619794Z",
     "shell.execute_reply.started": "2023-11-28T16:58:48.615270Z"
    },
    "tags": []
   },
   "outputs": [
    {
     "data": {
      "text/plain": [
       "array([344.845, 2, 0, 5.3767, 1], dtype=object)"
      ]
     },
     "execution_count": 14,
     "metadata": {},
     "output_type": "execute_result"
    }
   ],
   "source": [
    "# name_to_ro5 = {sm_name: ro5_df[['MW', 'HBA', 'HBD', 'LogP', 'pass_ro5']]}\n",
    "ro5_df['pass_ro5'] = ro5_df['pass_ro5'].astype('int')\n",
    "ro5_df['LogP'] = ro5_df['LogP'].round(4)\n",
    "name_to_ro5 = {row[0]: row[1:] for row in ro5_df.values}\n",
    "name_to_ro5['Clotrimazole']"
   ]
  },
  {
   "cell_type": "code",
   "execution_count": 15,
   "metadata": {
    "colab": {
     "base_uri": "https://localhost:8080/"
    },
    "execution": {
     "iopub.execute_input": "2023-11-28T16:58:48.620939Z",
     "iopub.status.busy": "2023-11-28T16:58:48.620794Z",
     "iopub.status.idle": "2023-11-28T16:58:48.627009Z",
     "shell.execute_reply": "2023-11-28T16:58:48.626560Z",
     "shell.execute_reply.started": "2023-11-28T16:58:48.620926Z"
    },
    "id": "uEZFMmlSiW6z",
    "outputId": "33ea6535-6276-401c-80c3-3e37f1108fa5",
    "tags": []
   },
   "outputs": [
    {
     "data": {
      "text/plain": [
       "(2,\n",
       " {'B cells': 0,\n",
       "  'Myeloid cells': 1,\n",
       "  'NK cells': 2,\n",
       "  'T cells CD4+': 3,\n",
       "  'T cells CD8+': 4,\n",
       "  'T regulatory cells': 5})"
      ]
     },
     "execution_count": 15,
     "metadata": {},
     "output_type": "execute_result"
    }
   ],
   "source": [
    "name_to_id_maps['cell_type']['NK cells'], name_to_id_maps['cell_type']"
   ]
  },
  {
   "cell_type": "markdown",
   "metadata": {},
   "source": [
    "# Load model\n",
    "* * *"
   ]
  },
  {
   "cell_type": "code",
   "execution_count": 16,
   "metadata": {
    "execution": {
     "iopub.execute_input": "2023-11-28T16:58:48.627734Z",
     "iopub.status.busy": "2023-11-28T16:58:48.627574Z",
     "iopub.status.idle": "2023-11-28T16:58:49.675506Z",
     "shell.execute_reply": "2023-11-28T16:58:49.674995Z",
     "shell.execute_reply.started": "2023-11-28T16:58:48.627722Z"
    },
    "tags": []
   },
   "outputs": [
    {
     "name": "stdout",
     "output_type": "stream",
     "text": [
      "Loading model from ./scp/model/20231128_1357.keras\n"
     ]
    },
    {
     "name": "stderr",
     "output_type": "stream",
     "text": [
      "2023-11-28 16:58:48.655598: I tensorflow/stream_executor/cuda/cuda_gpu_executor.cc:975] successful NUMA node read from SysFS had negative value (-1), but there must be at least one NUMA node, so returning NUMA node zero\n",
      "2023-11-28 16:58:48.655892: I tensorflow/stream_executor/cuda/cuda_gpu_executor.cc:975] successful NUMA node read from SysFS had negative value (-1), but there must be at least one NUMA node, so returning NUMA node zero\n",
      "2023-11-28 16:58:48.656078: I tensorflow/stream_executor/cuda/cuda_gpu_executor.cc:975] successful NUMA node read from SysFS had negative value (-1), but there must be at least one NUMA node, so returning NUMA node zero\n",
      "2023-11-28 16:58:48.656315: I tensorflow/stream_executor/cuda/cuda_gpu_executor.cc:975] successful NUMA node read from SysFS had negative value (-1), but there must be at least one NUMA node, so returning NUMA node zero\n",
      "2023-11-28 16:58:48.656503: I tensorflow/stream_executor/cuda/cuda_gpu_executor.cc:975] successful NUMA node read from SysFS had negative value (-1), but there must be at least one NUMA node, so returning NUMA node zero\n",
      "2023-11-28 16:58:48.656653: I tensorflow/core/common_runtime/gpu/gpu_device.cc:1532] Created device /job:localhost/replica:0/task:0/device:GPU:0 with 20779 MB memory:  -> device: 0, name: NVIDIA A10G, pci bus id: 0000:00:1e.0, compute capability: 8.6\n"
     ]
    },
    {
     "name": "stdout",
     "output_type": "stream",
     "text": [
      "Model: \"model_1\"\n",
      "__________________________________________________________________________________________________\n",
      " Layer (type)                   Output Shape         Param #     Connected to                     \n",
      "==================================================================================================\n",
      " input_6 (InputLayer)           [(None, 1)]          0           []                               \n",
      "                                                                                                  \n",
      " input_7 (InputLayer)           [(None, 1)]          0           []                               \n",
      "                                                                                                  \n",
      " input_8 (InputLayer)           [(None, 1)]          0           []                               \n",
      "                                                                                                  \n",
      " embedding_3 (Embedding)        (None, 1, 32)        192         ['input_6[0][0]']                \n",
      "                                                                                                  \n",
      " embedding_4 (Embedding)        (None, 1, 8)         1168        ['input_7[0][0]']                \n",
      "                                                                                                  \n",
      " embedding_5 (Embedding)        (None, 1, 512)       9324032     ['input_8[0][0]']                \n",
      "                                                                                                  \n",
      " input_9 (InputLayer)           [(None, 1, 5)]       0           []                               \n",
      "                                                                                                  \n",
      " input_10 (InputLayer)          [(None, 1, 167)]     0           []                               \n",
      "                                                                                                  \n",
      " concatenate_1 (Concatenate)    (None, 1, 724)       0           ['embedding_3[0][0]',            \n",
      "                                                                  'embedding_4[0][0]',            \n",
      "                                                                  'embedding_5[0][0]',            \n",
      "                                                                  'input_9[0][0]',                \n",
      "                                                                  'input_10[0][0]']               \n",
      "                                                                                                  \n",
      " dense_6 (Dense)                (None, 1, 256)       185600      ['concatenate_1[0][0]']          \n",
      "                                                                                                  \n",
      " batch_normalization_5 (BatchNo  (None, 1, 256)      1024        ['dense_6[0][0]']                \n",
      " rmalization)                                                                                     \n",
      "                                                                                                  \n",
      " leaky_re_lu_5 (LeakyReLU)      (None, 1, 256)       0           ['batch_normalization_5[0][0]']  \n",
      "                                                                                                  \n",
      " dropout_2 (Dropout)            (None, 1, 256)       0           ['leaky_re_lu_5[0][0]']          \n",
      "                                                                                                  \n",
      " dense_7 (Dense)                (None, 1, 128)       32896       ['dropout_2[0][0]']              \n",
      "                                                                                                  \n",
      " batch_normalization_6 (BatchNo  (None, 1, 128)      512         ['dense_7[0][0]']                \n",
      " rmalization)                                                                                     \n",
      "                                                                                                  \n",
      " leaky_re_lu_6 (LeakyReLU)      (None, 1, 128)       0           ['batch_normalization_6[0][0]']  \n",
      "                                                                                                  \n",
      " dropout_3 (Dropout)            (None, 1, 128)       0           ['leaky_re_lu_6[0][0]']          \n",
      "                                                                                                  \n",
      " dense_8 (Dense)                (None, 1, 64)        8256        ['dropout_3[0][0]']              \n",
      "                                                                                                  \n",
      " batch_normalization_7 (BatchNo  (None, 1, 64)       256         ['dense_8[0][0]']                \n",
      " rmalization)                                                                                     \n",
      "                                                                                                  \n",
      " leaky_re_lu_7 (LeakyReLU)      (None, 1, 64)        0           ['batch_normalization_7[0][0]']  \n",
      "                                                                                                  \n",
      " dense_9 (Dense)                (None, 1, 64)        4160        ['leaky_re_lu_7[0][0]']          \n",
      "                                                                                                  \n",
      " batch_normalization_8 (BatchNo  (None, 1, 64)       256         ['dense_9[0][0]']                \n",
      " rmalization)                                                                                     \n",
      "                                                                                                  \n",
      " leaky_re_lu_8 (LeakyReLU)      (None, 1, 64)        0           ['batch_normalization_8[0][0]']  \n",
      "                                                                                                  \n",
      " dense_10 (Dense)               (None, 1, 32)        2080        ['leaky_re_lu_8[0][0]']          \n",
      "                                                                                                  \n",
      " batch_normalization_9 (BatchNo  (None, 1, 32)       128         ['dense_10[0][0]']               \n",
      " rmalization)                                                                                     \n",
      "                                                                                                  \n",
      " leaky_re_lu_9 (LeakyReLU)      (None, 1, 32)        0           ['batch_normalization_9[0][0]']  \n",
      "                                                                                                  \n",
      " dense_11 (Dense)               (None, 1, 1)         33          ['leaky_re_lu_9[0][0]']          \n",
      "                                                                                                  \n",
      "==================================================================================================\n",
      "Total params: 9,560,593\n",
      "Trainable params: 9,559,505\n",
      "Non-trainable params: 1,088\n",
      "__________________________________________________________________________________________________\n"
     ]
    }
   ],
   "source": [
    "# read the model\n",
    "file_path = f\"{model_path}/{formatted_datetime}.keras\"\n",
    "print(f'Loading model from {file_path}')\n",
    "regressor = tf.keras.models.load_model(file_path)\n",
    "regressor.summary()"
   ]
  },
  {
   "cell_type": "markdown",
   "metadata": {
    "id": "llBXeNUCkU0N"
   },
   "source": [
    "# Create the feature matrix for prediction\n",
    "* * *\n",
    "The ids (combinations of cell and drug) in the submission file are a disjoint set with the training file."
   ]
  },
  {
   "cell_type": "code",
   "execution_count": 17,
   "metadata": {
    "colab": {
     "base_uri": "https://localhost:8080/"
    },
    "execution": {
     "iopub.execute_input": "2023-11-28T16:58:49.676668Z",
     "iopub.status.busy": "2023-11-28T16:58:49.676169Z",
     "iopub.status.idle": "2023-11-28T16:58:49.679929Z",
     "shell.execute_reply": "2023-11-28T16:58:49.679460Z",
     "shell.execute_reply.started": "2023-11-28T16:58:49.676651Z"
    },
    "id": "YoWxfv7XixCZ",
    "outputId": "e345c364-a5c0-4077-b51d-7f5d6952de5f",
    "tags": []
   },
   "outputs": [
    {
     "data": {
      "text/plain": [
       "1"
      ]
     },
     "execution_count": 17,
     "metadata": {},
     "output_type": "execute_result"
    }
   ],
   "source": [
    "# example of encoding a name as numeric id for for input to embedding layer\n",
    "name_to_id_maps['cell_type']['Myeloid cells']"
   ]
  },
  {
   "cell_type": "code",
   "execution_count": 18,
   "metadata": {
    "colab": {
     "base_uri": "https://localhost:8080/"
    },
    "execution": {
     "iopub.execute_input": "2023-11-28T16:58:49.680650Z",
     "iopub.status.busy": "2023-11-28T16:58:49.680499Z",
     "iopub.status.idle": "2023-11-28T16:58:49.688063Z",
     "shell.execute_reply": "2023-11-28T16:58:49.687590Z",
     "shell.execute_reply.started": "2023-11-28T16:58:49.680638Z"
    },
    "id": "H4qbce8FSPsp",
    "outputId": "f8496df9-2a42-4d82-d690-bee320b9e12b",
    "tags": []
   },
   "outputs": [
    {
     "data": {
      "text/plain": [
       "['B cells', 'ABT737']"
      ]
     },
     "execution_count": 18,
     "metadata": {},
     "output_type": "execute_result"
    }
   ],
   "source": [
    "id_to_names  = lambda id: id_map_df.loc[[id]].values[0].tolist()\n",
    "id_to_names(2)"
   ]
  },
  {
   "cell_type": "code",
   "execution_count": 19,
   "metadata": {
    "execution": {
     "iopub.execute_input": "2023-11-28T16:58:49.688799Z",
     "iopub.status.busy": "2023-11-28T16:58:49.688646Z",
     "iopub.status.idle": "2023-11-28T16:59:05.992267Z",
     "shell.execute_reply": "2023-11-28T16:59:05.991600Z",
     "shell.execute_reply.started": "2023-11-28T16:58:49.688787Z"
    },
    "id": "YJiEYAmYTtFB",
    "tags": []
   },
   "outputs": [],
   "source": [
    "feature_matrix_predict = OrderedDict()\n",
    "submission_gene_ids = [name_to_id_maps['gene_name'][gene_name] for gene_name in submission_df.columns]\n",
    "for id in submission_df.index.tolist():\n",
    "    cell_type, sm_name = id_to_names(id)\n",
    "    ro5 = name_to_ro5[sm_name]\n",
    "    fp = name_to_fp[sm_name]\n",
    "    cell_type_id = name_to_id_maps['cell_type'][cell_type]\n",
    "    sm_id = name_to_id_maps['sm_name'][sm_name]\n",
    "    for gene_id in submission_gene_ids:\n",
    "        feature_matrix_predict[(cell_type_id, sm_id, gene_id, *ro5, *fp)] = None # this will be always none because we don't have this data\n",
    "        # print((cell_type_id, sm_id, gene_id), feature_matrix_train.get((cell_type_id, sm_id, gene_id), None))\n"
   ]
  },
  {
   "cell_type": "markdown",
   "metadata": {
    "id": "MgByLDpUd4C2"
   },
   "source": [
    "# Predict the submission values\n",
    "* * *"
   ]
  },
  {
   "cell_type": "code",
   "execution_count": 20,
   "metadata": {
    "colab": {
     "base_uri": "https://localhost:8080/"
    },
    "execution": {
     "iopub.execute_input": "2023-11-28T16:59:05.993352Z",
     "iopub.status.busy": "2023-11-28T16:59:05.993030Z",
     "iopub.status.idle": "2023-11-28T16:59:52.497694Z",
     "shell.execute_reply": "2023-11-28T16:59:52.497009Z",
     "shell.execute_reply.started": "2023-11-28T16:59:05.993336Z"
    },
    "id": "pIXtrqnKFZcF",
    "outputId": "6ef6015b-1afc-4034-8075-89680d94c344",
    "tags": []
   },
   "outputs": [
    {
     "name": "stdout",
     "output_type": "stream",
     "text": [
      "  52/2295 [..............................] - ETA: 6s"
     ]
    },
    {
     "name": "stderr",
     "output_type": "stream",
     "text": [
      "2023-11-28 16:59:45.359688: I tensorflow/stream_executor/cuda/cuda_blas.cc:1786] TensorFloat-32 will be used for the matrix multiplication. This will only be logged once.\n"
     ]
    },
    {
     "name": "stdout",
     "output_type": "stream",
     "text": [
      "2295/2295 [==============================] - 8s 3ms/step\n",
      "Y_preds.shape: (4643805, 1, 1)\n"
     ]
    }
   ],
   "source": [
    "X_pred =  np.array(list(feature_matrix_predict.keys()), dtype='int16').reshape(-1,175)\n",
    "Y_preds = regressor.predict([X_pred[:,0],  X_pred[:,1],  X_pred[:,2],  X_pred[:,3:8].reshape((-1, 1, 5)),  X_pred[:,8:].reshape((-1, 1, 167))], batch_size=2024)\n",
    "print(f'Y_preds.shape: {Y_preds.shape}')"
   ]
  },
  {
   "cell_type": "code",
   "execution_count": 21,
   "metadata": {
    "colab": {
     "base_uri": "https://localhost:8080/"
    },
    "execution": {
     "iopub.execute_input": "2023-11-28T16:59:52.498884Z",
     "iopub.status.busy": "2023-11-28T16:59:52.498560Z",
     "iopub.status.idle": "2023-11-28T16:59:52.506523Z",
     "shell.execute_reply": "2023-11-28T16:59:52.505921Z",
     "shell.execute_reply.started": "2023-11-28T16:59:52.498868Z"
    },
    "id": "BMATQ8xYmxE0",
    "outputId": "98d250cb-5ee2-4fe8-d088-15318b323fae",
    "tags": []
   },
   "outputs": [
    {
     "data": {
      "text/plain": [
       "((255, 18211), -19.212826, 0.3146684, 34.624146)"
      ]
     },
     "execution_count": 21,
     "metadata": {},
     "output_type": "execute_result"
    }
   ],
   "source": [
    "num_rows, num_cols = submission_df.shape\n",
    "Y_preds = Y_preds.reshape(num_rows, num_cols)\n",
    "Y_preds.shape,  Y_preds.min(),  Y_preds.mean(), Y_preds.max()"
   ]
  },
  {
   "cell_type": "code",
   "execution_count": 22,
   "metadata": {
    "colab": {
     "base_uri": "https://localhost:8080/",
     "height": 461
    },
    "execution": {
     "iopub.execute_input": "2023-11-28T16:59:52.507448Z",
     "iopub.status.busy": "2023-11-28T16:59:52.507294Z",
     "iopub.status.idle": "2023-11-28T16:59:52.529126Z",
     "shell.execute_reply": "2023-11-28T16:59:52.528566Z",
     "shell.execute_reply.started": "2023-11-28T16:59:52.507433Z"
    },
    "id": "ClwKhnimpAsU",
    "outputId": "389212d6-d257-4aa4-da2d-35d588fb6794",
    "tags": []
   },
   "outputs": [
    {
     "data": {
      "text/html": [
       "<div>\n",
       "<style scoped>\n",
       "    .dataframe tbody tr th:only-of-type {\n",
       "        vertical-align: middle;\n",
       "    }\n",
       "\n",
       "    .dataframe tbody tr th {\n",
       "        vertical-align: top;\n",
       "    }\n",
       "\n",
       "    .dataframe thead th {\n",
       "        text-align: right;\n",
       "    }\n",
       "</style>\n",
       "<table border=\"1\" class=\"dataframe\">\n",
       "  <thead>\n",
       "    <tr style=\"text-align: right;\">\n",
       "      <th></th>\n",
       "      <th>A1BG</th>\n",
       "      <th>A1BG-AS1</th>\n",
       "      <th>A2M</th>\n",
       "      <th>A2M-AS1</th>\n",
       "      <th>A2MP1</th>\n",
       "      <th>A4GALT</th>\n",
       "      <th>AAAS</th>\n",
       "      <th>AACS</th>\n",
       "      <th>AAGAB</th>\n",
       "      <th>AAK1</th>\n",
       "      <th>...</th>\n",
       "      <th>ZUP1</th>\n",
       "      <th>ZW10</th>\n",
       "      <th>ZWILCH</th>\n",
       "      <th>ZWINT</th>\n",
       "      <th>ZXDA</th>\n",
       "      <th>ZXDB</th>\n",
       "      <th>ZXDC</th>\n",
       "      <th>ZYG11B</th>\n",
       "      <th>ZYX</th>\n",
       "      <th>ZZEF1</th>\n",
       "    </tr>\n",
       "    <tr>\n",
       "      <th>id</th>\n",
       "      <th></th>\n",
       "      <th></th>\n",
       "      <th></th>\n",
       "      <th></th>\n",
       "      <th></th>\n",
       "      <th></th>\n",
       "      <th></th>\n",
       "      <th></th>\n",
       "      <th></th>\n",
       "      <th></th>\n",
       "      <th></th>\n",
       "      <th></th>\n",
       "      <th></th>\n",
       "      <th></th>\n",
       "      <th></th>\n",
       "      <th></th>\n",
       "      <th></th>\n",
       "      <th></th>\n",
       "      <th></th>\n",
       "      <th></th>\n",
       "      <th></th>\n",
       "    </tr>\n",
       "  </thead>\n",
       "  <tbody>\n",
       "    <tr>\n",
       "      <th>0</th>\n",
       "      <td>0.343996</td>\n",
       "      <td>0.289857</td>\n",
       "      <td>0.207838</td>\n",
       "      <td>0.148560</td>\n",
       "      <td>0.495442</td>\n",
       "      <td>0.580691</td>\n",
       "      <td>0.148939</td>\n",
       "      <td>0.300765</td>\n",
       "      <td>0.180562</td>\n",
       "      <td>0.111279</td>\n",
       "      <td>...</td>\n",
       "      <td>0.138060</td>\n",
       "      <td>0.255974</td>\n",
       "      <td>0.199184</td>\n",
       "      <td>0.283842</td>\n",
       "      <td>0.309461</td>\n",
       "      <td>0.297193</td>\n",
       "      <td>0.170403</td>\n",
       "      <td>0.175018</td>\n",
       "      <td>0.065011</td>\n",
       "      <td>0.085825</td>\n",
       "    </tr>\n",
       "    <tr>\n",
       "      <th>1</th>\n",
       "      <td>0.229756</td>\n",
       "      <td>0.080588</td>\n",
       "      <td>0.177181</td>\n",
       "      <td>0.103611</td>\n",
       "      <td>0.500450</td>\n",
       "      <td>0.594643</td>\n",
       "      <td>0.003145</td>\n",
       "      <td>0.111470</td>\n",
       "      <td>0.011230</td>\n",
       "      <td>-0.007255</td>\n",
       "      <td>...</td>\n",
       "      <td>-0.006317</td>\n",
       "      <td>0.038983</td>\n",
       "      <td>0.027029</td>\n",
       "      <td>0.187187</td>\n",
       "      <td>0.247794</td>\n",
       "      <td>0.162858</td>\n",
       "      <td>0.013298</td>\n",
       "      <td>0.007195</td>\n",
       "      <td>-0.056679</td>\n",
       "      <td>-0.023969</td>\n",
       "    </tr>\n",
       "    <tr>\n",
       "      <th>2</th>\n",
       "      <td>0.448622</td>\n",
       "      <td>0.347054</td>\n",
       "      <td>0.451721</td>\n",
       "      <td>0.430418</td>\n",
       "      <td>0.862622</td>\n",
       "      <td>1.962351</td>\n",
       "      <td>0.176290</td>\n",
       "      <td>0.385409</td>\n",
       "      <td>0.108943</td>\n",
       "      <td>-0.013689</td>\n",
       "      <td>...</td>\n",
       "      <td>0.083158</td>\n",
       "      <td>0.316118</td>\n",
       "      <td>0.314925</td>\n",
       "      <td>0.447072</td>\n",
       "      <td>0.454645</td>\n",
       "      <td>0.430430</td>\n",
       "      <td>0.274384</td>\n",
       "      <td>0.146962</td>\n",
       "      <td>-0.007023</td>\n",
       "      <td>0.080314</td>\n",
       "    </tr>\n",
       "    <tr>\n",
       "      <th>3</th>\n",
       "      <td>0.010505</td>\n",
       "      <td>0.009791</td>\n",
       "      <td>-0.079869</td>\n",
       "      <td>-0.089935</td>\n",
       "      <td>-0.010500</td>\n",
       "      <td>0.021465</td>\n",
       "      <td>-0.035395</td>\n",
       "      <td>0.005571</td>\n",
       "      <td>0.012971</td>\n",
       "      <td>0.047327</td>\n",
       "      <td>...</td>\n",
       "      <td>-0.005657</td>\n",
       "      <td>-0.017086</td>\n",
       "      <td>-0.048310</td>\n",
       "      <td>0.001644</td>\n",
       "      <td>0.017421</td>\n",
       "      <td>-0.001379</td>\n",
       "      <td>-0.055417</td>\n",
       "      <td>-0.018314</td>\n",
       "      <td>-0.057371</td>\n",
       "      <td>-0.026382</td>\n",
       "    </tr>\n",
       "    <tr>\n",
       "      <th>4</th>\n",
       "      <td>0.193698</td>\n",
       "      <td>0.122006</td>\n",
       "      <td>0.005983</td>\n",
       "      <td>-0.051883</td>\n",
       "      <td>0.330829</td>\n",
       "      <td>0.438747</td>\n",
       "      <td>0.022670</td>\n",
       "      <td>0.129096</td>\n",
       "      <td>0.026903</td>\n",
       "      <td>0.049578</td>\n",
       "      <td>...</td>\n",
       "      <td>0.022670</td>\n",
       "      <td>0.083061</td>\n",
       "      <td>0.037999</td>\n",
       "      <td>0.145144</td>\n",
       "      <td>0.174191</td>\n",
       "      <td>0.142088</td>\n",
       "      <td>-0.000131</td>\n",
       "      <td>0.025737</td>\n",
       "      <td>-0.024345</td>\n",
       "      <td>0.004656</td>\n",
       "    </tr>\n",
       "    <tr>\n",
       "      <th>5</th>\n",
       "      <td>0.573608</td>\n",
       "      <td>0.351667</td>\n",
       "      <td>0.491856</td>\n",
       "      <td>0.380946</td>\n",
       "      <td>1.118487</td>\n",
       "      <td>1.827926</td>\n",
       "      <td>0.225476</td>\n",
       "      <td>0.346140</td>\n",
       "      <td>0.235383</td>\n",
       "      <td>0.380681</td>\n",
       "      <td>...</td>\n",
       "      <td>0.176955</td>\n",
       "      <td>0.306396</td>\n",
       "      <td>0.273087</td>\n",
       "      <td>0.442626</td>\n",
       "      <td>0.546624</td>\n",
       "      <td>0.405468</td>\n",
       "      <td>0.265066</td>\n",
       "      <td>0.223871</td>\n",
       "      <td>-0.096436</td>\n",
       "      <td>0.091040</td>\n",
       "    </tr>\n",
       "    <tr>\n",
       "      <th>6</th>\n",
       "      <td>0.114432</td>\n",
       "      <td>0.069517</td>\n",
       "      <td>0.003762</td>\n",
       "      <td>0.001229</td>\n",
       "      <td>-0.121219</td>\n",
       "      <td>-0.263051</td>\n",
       "      <td>-0.012232</td>\n",
       "      <td>0.084460</td>\n",
       "      <td>-0.040639</td>\n",
       "      <td>-0.042312</td>\n",
       "      <td>...</td>\n",
       "      <td>-0.039754</td>\n",
       "      <td>0.027682</td>\n",
       "      <td>0.027546</td>\n",
       "      <td>0.114700</td>\n",
       "      <td>0.118968</td>\n",
       "      <td>0.108083</td>\n",
       "      <td>0.013239</td>\n",
       "      <td>-0.023916</td>\n",
       "      <td>-0.036395</td>\n",
       "      <td>-0.038978</td>\n",
       "    </tr>\n",
       "    <tr>\n",
       "      <th>7</th>\n",
       "      <td>0.077550</td>\n",
       "      <td>0.062726</td>\n",
       "      <td>0.096122</td>\n",
       "      <td>0.105624</td>\n",
       "      <td>0.322504</td>\n",
       "      <td>0.684983</td>\n",
       "      <td>0.038805</td>\n",
       "      <td>0.065989</td>\n",
       "      <td>0.064125</td>\n",
       "      <td>0.062382</td>\n",
       "      <td>...</td>\n",
       "      <td>0.057745</td>\n",
       "      <td>0.073126</td>\n",
       "      <td>0.052628</td>\n",
       "      <td>0.047274</td>\n",
       "      <td>0.066804</td>\n",
       "      <td>0.078089</td>\n",
       "      <td>0.062088</td>\n",
       "      <td>0.046653</td>\n",
       "      <td>-0.018878</td>\n",
       "      <td>0.043738</td>\n",
       "    </tr>\n",
       "    <tr>\n",
       "      <th>8</th>\n",
       "      <td>0.281074</td>\n",
       "      <td>0.165994</td>\n",
       "      <td>0.177647</td>\n",
       "      <td>0.136192</td>\n",
       "      <td>0.370722</td>\n",
       "      <td>0.755174</td>\n",
       "      <td>0.081477</td>\n",
       "      <td>0.185724</td>\n",
       "      <td>0.106397</td>\n",
       "      <td>0.093220</td>\n",
       "      <td>...</td>\n",
       "      <td>0.078725</td>\n",
       "      <td>0.123802</td>\n",
       "      <td>0.106322</td>\n",
       "      <td>0.226402</td>\n",
       "      <td>0.255140</td>\n",
       "      <td>0.218224</td>\n",
       "      <td>0.078910</td>\n",
       "      <td>0.088432</td>\n",
       "      <td>0.023745</td>\n",
       "      <td>0.043320</td>\n",
       "    </tr>\n",
       "    <tr>\n",
       "      <th>9</th>\n",
       "      <td>0.246927</td>\n",
       "      <td>0.133227</td>\n",
       "      <td>0.058036</td>\n",
       "      <td>-0.014667</td>\n",
       "      <td>0.473235</td>\n",
       "      <td>0.676207</td>\n",
       "      <td>-0.167165</td>\n",
       "      <td>0.123157</td>\n",
       "      <td>-0.094318</td>\n",
       "      <td>-0.069721</td>\n",
       "      <td>...</td>\n",
       "      <td>-0.078374</td>\n",
       "      <td>0.063493</td>\n",
       "      <td>-0.013374</td>\n",
       "      <td>0.173212</td>\n",
       "      <td>0.223360</td>\n",
       "      <td>0.148997</td>\n",
       "      <td>-0.066631</td>\n",
       "      <td>-0.147870</td>\n",
       "      <td>-0.129964</td>\n",
       "      <td>-0.090347</td>\n",
       "    </tr>\n",
       "  </tbody>\n",
       "</table>\n",
       "<p>10 rows × 18211 columns</p>\n",
       "</div>"
      ],
      "text/plain": [
       "        A1BG  A1BG-AS1       A2M   A2M-AS1     A2MP1    A4GALT      AAAS  \\\n",
       "id                                                                         \n",
       "0   0.343996  0.289857  0.207838  0.148560  0.495442  0.580691  0.148939   \n",
       "1   0.229756  0.080588  0.177181  0.103611  0.500450  0.594643  0.003145   \n",
       "2   0.448622  0.347054  0.451721  0.430418  0.862622  1.962351  0.176290   \n",
       "3   0.010505  0.009791 -0.079869 -0.089935 -0.010500  0.021465 -0.035395   \n",
       "4   0.193698  0.122006  0.005983 -0.051883  0.330829  0.438747  0.022670   \n",
       "5   0.573608  0.351667  0.491856  0.380946  1.118487  1.827926  0.225476   \n",
       "6   0.114432  0.069517  0.003762  0.001229 -0.121219 -0.263051 -0.012232   \n",
       "7   0.077550  0.062726  0.096122  0.105624  0.322504  0.684983  0.038805   \n",
       "8   0.281074  0.165994  0.177647  0.136192  0.370722  0.755174  0.081477   \n",
       "9   0.246927  0.133227  0.058036 -0.014667  0.473235  0.676207 -0.167165   \n",
       "\n",
       "        AACS     AAGAB      AAK1  ...      ZUP1      ZW10    ZWILCH     ZWINT  \\\n",
       "id                                ...                                           \n",
       "0   0.300765  0.180562  0.111279  ...  0.138060  0.255974  0.199184  0.283842   \n",
       "1   0.111470  0.011230 -0.007255  ... -0.006317  0.038983  0.027029  0.187187   \n",
       "2   0.385409  0.108943 -0.013689  ...  0.083158  0.316118  0.314925  0.447072   \n",
       "3   0.005571  0.012971  0.047327  ... -0.005657 -0.017086 -0.048310  0.001644   \n",
       "4   0.129096  0.026903  0.049578  ...  0.022670  0.083061  0.037999  0.145144   \n",
       "5   0.346140  0.235383  0.380681  ...  0.176955  0.306396  0.273087  0.442626   \n",
       "6   0.084460 -0.040639 -0.042312  ... -0.039754  0.027682  0.027546  0.114700   \n",
       "7   0.065989  0.064125  0.062382  ...  0.057745  0.073126  0.052628  0.047274   \n",
       "8   0.185724  0.106397  0.093220  ...  0.078725  0.123802  0.106322  0.226402   \n",
       "9   0.123157 -0.094318 -0.069721  ... -0.078374  0.063493 -0.013374  0.173212   \n",
       "\n",
       "        ZXDA      ZXDB      ZXDC    ZYG11B       ZYX     ZZEF1  \n",
       "id                                                              \n",
       "0   0.309461  0.297193  0.170403  0.175018  0.065011  0.085825  \n",
       "1   0.247794  0.162858  0.013298  0.007195 -0.056679 -0.023969  \n",
       "2   0.454645  0.430430  0.274384  0.146962 -0.007023  0.080314  \n",
       "3   0.017421 -0.001379 -0.055417 -0.018314 -0.057371 -0.026382  \n",
       "4   0.174191  0.142088 -0.000131  0.025737 -0.024345  0.004656  \n",
       "5   0.546624  0.405468  0.265066  0.223871 -0.096436  0.091040  \n",
       "6   0.118968  0.108083  0.013239 -0.023916 -0.036395 -0.038978  \n",
       "7   0.066804  0.078089  0.062088  0.046653 -0.018878  0.043738  \n",
       "8   0.255140  0.218224  0.078910  0.088432  0.023745  0.043320  \n",
       "9   0.223360  0.148997 -0.066631 -0.147870 -0.129964 -0.090347  \n",
       "\n",
       "[10 rows x 18211 columns]"
      ]
     },
     "execution_count": 22,
     "metadata": {},
     "output_type": "execute_result"
    }
   ],
   "source": [
    "submission_df.iloc[:,:] = Y_preds\n",
    "submission_df.head(10)"
   ]
  },
  {
   "cell_type": "code",
   "execution_count": 23,
   "metadata": {
    "colab": {
     "base_uri": "https://localhost:8080/"
    },
    "execution": {
     "iopub.execute_input": "2023-11-28T16:59:52.530336Z",
     "iopub.status.busy": "2023-11-28T16:59:52.529878Z",
     "iopub.status.idle": "2023-11-28T16:59:59.595072Z",
     "shell.execute_reply": "2023-11-28T16:59:59.594330Z",
     "shell.execute_reply.started": "2023-11-28T16:59:52.530319Z"
    },
    "id": "a45N_agepq9j",
    "outputId": "da86f0f0-3ed5-43d6-fb3e-61e7be72ddbb",
    "tags": []
   },
   "outputs": [
    {
     "name": "stdout",
     "output_type": "stream",
     "text": [
      "Submission file saved to in path ./scp/output/submission_20231128_1357.csv\n"
     ]
    }
   ],
   "source": [
    "submission_df.round(2).to_csv(f\"{output_path}/submission_{formatted_datetime}.csv\")\n",
    "print(f'Submission file saved to in path {output_path}/submission_{formatted_datetime}.csv')"
   ]
  },
  {
   "cell_type": "code",
   "execution_count": null,
   "metadata": {
    "id": "VrDK1j0V46-4"
   },
   "outputs": [],
   "source": []
  }
 ],
 "metadata": {
  "accelerator": "GPU",
  "colab": {
   "provenance": []
  },
  "kernelspec": {
   "display_name": "saturn (Python 3)",
   "language": "python",
   "name": "python3"
  },
  "language_info": {
   "codemirror_mode": {
    "name": "ipython",
    "version": 3
   },
   "file_extension": ".py",
   "mimetype": "text/x-python",
   "name": "python",
   "nbconvert_exporter": "python",
   "pygments_lexer": "ipython3",
   "version": "3.9.15"
  }
 },
 "nbformat": 4,
 "nbformat_minor": 4
}
